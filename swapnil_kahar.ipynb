{
  "nbformat": 4,
  "nbformat_minor": 0,
  "metadata": {
    "colab": {
      "name": "swapnil_kahar.ipynb",
      "provenance": [],
      "authorship_tag": "ABX9TyN3SuJZ+Z3njVgDPXaD/2GB",
      "include_colab_link": true
    },
    "kernelspec": {
      "name": "python3",
      "display_name": "Python 3"
    }
  },
  "cells": [
    {
      "cell_type": "markdown",
      "metadata": {
        "id": "view-in-github",
        "colab_type": "text"
      },
      "source": [
        "<a href=\"https://colab.research.google.com/github/swapnil-kahar/ml-project/blob/main/swapnil_kahar.ipynb\" target=\"_parent\"><img src=\"https://colab.research.google.com/assets/colab-badge.svg\" alt=\"Open In Colab\"/></a>"
      ]
    },
    {
      "cell_type": "markdown",
      "metadata": {
        "id": "lRlzokceVIoL"
      },
      "source": [
        "importing the important libraries "
      ]
    },
    {
      "cell_type": "code",
      "metadata": {
        "id": "GLwpxXsTVWuU"
      },
      "source": [
        "import numpy as np\r\n",
        "import pandas as pd"
      ],
      "execution_count": 3,
      "outputs": []
    },
    {
      "cell_type": "markdown",
      "metadata": {
        "id": "uxlKt60mW39L"
      },
      "source": [
        "exploring the data:\r\n",
        "the dataset is imorted fromm scikit learn\r\n"
      ]
    },
    {
      "cell_type": "code",
      "metadata": {
        "id": "PuVQql35XKS9"
      },
      "source": [
        "from sklearn.datasets import load_iris\r\n",
        "iris_dataset=load_iris() "
      ],
      "execution_count": 8,
      "outputs": []
    },
    {
      "cell_type": "markdown",
      "metadata": {
        "id": "R0Gqnz2oYB5o"
      },
      "source": [
        "object returned by load iris is bunch object ,similar to dictionary"
      ]
    },
    {
      "cell_type": "code",
      "metadata": {
        "colab": {
          "base_uri": "https://localhost:8080/"
        },
        "id": "-lZe9qayYPq1",
        "outputId": "c67a1ea6-9ea5-4090-a0df-931aa42417dd"
      },
      "source": [
        "print(\"keys of iris_dataset: \\n{}\".format(iris_dataset.keys()))"
      ],
      "execution_count": 10,
      "outputs": [
        {
          "output_type": "stream",
          "text": [
            "keys of iris_dataset: \n",
            "dict_keys(['data', 'target', 'target_names', 'DESCR', 'feature_names', 'filename'])\n"
          ],
          "name": "stdout"
        }
      ]
    },
    {
      "cell_type": "markdown",
      "metadata": {
        "id": "z77t1ZtUZean"
      },
      "source": [
        "DESCR is short description of dataset "
      ]
    },
    {
      "cell_type": "code",
      "metadata": {
        "colab": {
          "base_uri": "https://localhost:8080/"
        },
        "id": "VeZajptRZoL9",
        "outputId": "c36b2f4c-e2ed-493c-aae8-0298a4011434"
      },
      "source": [
        "print(iris_dataset['DESCR'][:193]+\"\\n...\")"
      ],
      "execution_count": 11,
      "outputs": [
        {
          "output_type": "stream",
          "text": [
            ".. _iris_dataset:\n",
            "\n",
            "Iris plants dataset\n",
            "--------------------\n",
            "\n",
            "**Data Set Characteristics:**\n",
            "\n",
            "    :Number of Instances: 150 (50 in each of three classes)\n",
            "    :Number of Attributes: 4 numeric, pre\n",
            "...\n"
          ],
          "name": "stdout"
        }
      ]
    },
    {
      "cell_type": "markdown",
      "metadata": {
        "id": "_BdibN5ka90r"
      },
      "source": [
        "lets move on to target names "
      ]
    },
    {
      "cell_type": "code",
      "metadata": {
        "colab": {
          "base_uri": "https://localhost:8080/"
        },
        "id": "9WuQvnagbEr0",
        "outputId": "c0bc5d23-5d7e-4ba2-a1e2-2278e1649aae"
      },
      "source": [
        "print(\"target names: {}\".format(iris_dataset['target_names']))"
      ],
      "execution_count": 12,
      "outputs": [
        {
          "output_type": "stream",
          "text": [
            "target names: ['setosa' 'versicolor' 'virginica']\n"
          ],
          "name": "stdout"
        }
      ]
    },
    {
      "cell_type": "markdown",
      "metadata": {
        "id": "pLldkhZnbrJ1"
      },
      "source": [
        "nest line is feature_ names \r\n",
        "value of feature names is list of strings "
      ]
    },
    {
      "cell_type": "code",
      "metadata": {
        "colab": {
          "base_uri": "https://localhost:8080/"
        },
        "id": "zeUXF5Vwb5xq",
        "outputId": "090e7d78-02fe-47dd-de45-de48300f4902"
      },
      "source": [
        "print(\"feature names: {}\".format(iris_dataset['feature_names']))"
      ],
      "execution_count": 13,
      "outputs": [
        {
          "output_type": "stream",
          "text": [
            "feature names: ['sepal length (cm)', 'sepal width (cm)', 'petal length (cm)', 'petal width (cm)']\n"
          ],
          "name": "stdout"
        }
      ]
    },
    {
      "cell_type": "markdown",
      "metadata": {
        "id": "NbLfIh1BcPat"
      },
      "source": [
        "the data we are going to use itself contains in the target and data fields .the data contains nummeric measuremnts of sepal legth ,width and petal length and width in Numpy array:"
      ]
    },
    {
      "cell_type": "code",
      "metadata": {
        "colab": {
          "base_uri": "https://localhost:8080/"
        },
        "id": "meZL_k6Mc8jA",
        "outputId": "83588926-8948-4e5e-9a20-26756b392fef"
      },
      "source": [
        "print(\"types of data: {}\".format(type(iris_dataset['data'])))"
      ],
      "execution_count": 15,
      "outputs": [
        {
          "output_type": "stream",
          "text": [
            "types of data: <class 'numpy.ndarray'>\n"
          ],
          "name": "stdout"
        }
      ]
    },
    {
      "cell_type": "markdown",
      "metadata": {
        "id": "40oZmV0Zdek7"
      },
      "source": [
        "rows od data array corresponds to flowers,while the columnn represents the four measurements that  were  taken for each flower:  "
      ]
    },
    {
      "cell_type": "code",
      "metadata": {
        "colab": {
          "base_uri": "https://localhost:8080/"
        },
        "id": "pSWNmMbqd5sv",
        "outputId": "a8428b99-d2cc-4e3f-cf48-b041e37af409"
      },
      "source": [
        "print(\"shape of data : {}\".format(iris_dataset['data'].shape))"
      ],
      "execution_count": 16,
      "outputs": [
        {
          "output_type": "stream",
          "text": [
            "shape of data : (150, 4)\n"
          ],
          "name": "stdout"
        }
      ]
    },
    {
      "cell_type": "markdown",
      "metadata": {
        "id": "qyFyo4iLerj1"
      },
      "source": [
        "first five data samples are printed below"
      ]
    },
    {
      "cell_type": "code",
      "metadata": {
        "colab": {
          "base_uri": "https://localhost:8080/"
        },
        "id": "LOYwBuhPe8s2",
        "outputId": "089d7801-bf8d-4280-9a12-011487bfccfa"
      },
      "source": [
        "print(\"First five columns of data:\\n{}\".format(iris_dataset['data'][:5]))"
      ],
      "execution_count": 17,
      "outputs": [
        {
          "output_type": "stream",
          "text": [
            "First five columns of data:\n",
            "[[5.1 3.5 1.4 0.2]\n",
            " [4.9 3.  1.4 0.2]\n",
            " [4.7 3.2 1.3 0.2]\n",
            " [4.6 3.1 1.5 0.2]\n",
            " [5.  3.6 1.4 0.2]]\n"
          ],
          "name": "stdout"
        }
      ]
    },
    {
      "cell_type": "markdown",
      "metadata": {
        "id": "k_esUSiofV1A"
      },
      "source": [
        "from this data we can see that all first five   flowers  have petal width of 0.2 cm     and the    fisrt flower   has    the   longest sepal at  5.1  cm.so  we    can   make output    in     form  of tables and  hence   we  can   understand  which   column  represents which  feature   "
      ]
    },
    {
      "cell_type": "code",
      "metadata": {
        "colab": {
          "base_uri": "https://localhost:8080/"
        },
        "id": "yedcWzchgQTr",
        "outputId": "58bc6d74-508a-4f9a-8863-0ce16b06e16a"
      },
      "source": [
        "print(\"type of target: {}\".format(type(iris_dataset['target'])))"
      ],
      "execution_count": 18,
      "outputs": [
        {
          "output_type": "stream",
          "text": [
            "type of target: <class 'numpy.ndarray'>\n"
          ],
          "name": "stdout"
        }
      ]
    },
    {
      "cell_type": "markdown",
      "metadata": {
        "id": "BvQ1SZe4gzgI"
      },
      "source": [
        "target is one-dimensional array  and   on   seeing   the  shae    we  can  see    that    it   conatains oen  entry er flower :"
      ]
    },
    {
      "cell_type": "code",
      "metadata": {
        "colab": {
          "base_uri": "https://localhost:8080/"
        },
        "id": "xO52d9u2hFDB",
        "outputId": "f3092e15-68f8-423c-f7a0-dc9d30193b7b"
      },
      "source": [
        "print(\"shape of target: {}\".format(iris_dataset['target'].shape))"
      ],
      "execution_count": 20,
      "outputs": [
        {
          "output_type": "stream",
          "text": [
            "shape of target: (150,)\n"
          ],
          "name": "stdout"
        }
      ]
    },
    {
      "cell_type": "code",
      "metadata": {
        "colab": {
          "base_uri": "https://localhost:8080/"
        },
        "id": "2myI-qiChnWX",
        "outputId": "903a9e23-2122-4931-ddc0-e16e9e0be2af"
      },
      "source": [
        "print(\"target:\\n{}\".format(iris_dataset['target']))"
      ],
      "execution_count": 22,
      "outputs": [
        {
          "output_type": "stream",
          "text": [
            "target:\n",
            "[0 0 0 0 0 0 0 0 0 0 0 0 0 0 0 0 0 0 0 0 0 0 0 0 0 0 0 0 0 0 0 0 0 0 0 0 0\n",
            " 0 0 0 0 0 0 0 0 0 0 0 0 0 1 1 1 1 1 1 1 1 1 1 1 1 1 1 1 1 1 1 1 1 1 1 1 1\n",
            " 1 1 1 1 1 1 1 1 1 1 1 1 1 1 1 1 1 1 1 1 1 1 1 1 1 1 2 2 2 2 2 2 2 2 2 2 2\n",
            " 2 2 2 2 2 2 2 2 2 2 2 2 2 2 2 2 2 2 2 2 2 2 2 2 2 2 2 2 2 2 2 2 2 2 2 2 2\n",
            " 2 2]\n"
          ],
          "name": "stdout"
        }
      ]
    },
    {
      "cell_type": "markdown",
      "metadata": {
        "id": "5N8PQCC_h5SO"
      },
      "source": [
        "the  meanings of the numbers are  given  by  the  iris ['target_names']array:0   means setosa;1 means  versicolor,and  2  means  virginica"
      ]
    },
    {
      "cell_type": "markdown",
      "metadata": {
        "id": "LRNg8NxYjiBS"
      },
      "source": [
        "**Training and   testing    the     data:**"
      ]
    },
    {
      "cell_type": "code",
      "metadata": {
        "id": "FiRaUbGPj3yo"
      },
      "source": [
        "import sklearn\r\n",
        "from sklearn.model_selection import train_test_split\r\n",
        "X_train,X_test,Y_train,Y_test=train_test_split(iris_dataset['data'],iris_dataset['target'],random_state=0)"
      ],
      "execution_count": 27,
      "outputs": []
    },
    {
      "cell_type": "markdown",
      "metadata": {
        "id": "Sr8o335imLKe"
      },
      "source": [
        "Before making the   split    ,the train_test _split function shuffle the dataset using a psuedorandom number generator .X_train contains 75% of the rows of the dataset and remaining in  the X_test."
      ]
    },
    {
      "cell_type": "code",
      "metadata": {
        "colab": {
          "base_uri": "https://localhost:8080/"
        },
        "id": "UC6BYg40n0E3",
        "outputId": "55be41c1-8b7c-40fa-c05c-884671c89dfa"
      },
      "source": [
        "print(\"X_train shape:{}\".format(X_train.shape))\r\n",
        "print(\"Y_train shape:{}\".format(Y_train.shape))\r\n",
        "print(\"X_test shape:{}\".format(X_test.shape))\r\n",
        "print(\"Y_test shape:{}\".format(Y_test.shape))"
      ],
      "execution_count": 28,
      "outputs": [
        {
          "output_type": "stream",
          "text": [
            "X_train shape:(112, 4)\n",
            "Y_train shape:(112,)\n",
            "X_test shape:(38, 4)\n",
            "Y_test shape:(38,)\n"
          ],
          "name": "stdout"
        }
      ]
    },
    {
      "cell_type": "markdown",
      "metadata": {
        "id": "qVgVETm3oj3k"
      },
      "source": [
        "**Inspecting the Data:**\r\n",
        "implementing the k-neighbor "
      ]
    },
    {
      "cell_type": "code",
      "metadata": {
        "id": "o-YhRl7CppkE"
      },
      "source": [
        "from sklearn.neighbors import KNeighborsClassifier\r\n",
        "knn=KNeighborsClassifier(n_neighbors=1)"
      ],
      "execution_count": 29,
      "outputs": []
    },
    {
      "cell_type": "markdown",
      "metadata": {
        "id": "wquWSdlXqU5H"
      },
      "source": [
        "building the model on training set"
      ]
    },
    {
      "cell_type": "code",
      "metadata": {
        "colab": {
          "base_uri": "https://localhost:8080/"
        },
        "id": "ws3eG1uBqcyg",
        "outputId": "2148acf0-098a-4db7-a216-01a2ed0fa60b"
      },
      "source": [
        "knn.fit(X_train,Y_train)"
      ],
      "execution_count": 30,
      "outputs": [
        {
          "output_type": "execute_result",
          "data": {
            "text/plain": [
              "KNeighborsClassifier(algorithm='auto', leaf_size=30, metric='minkowski',\n",
              "                     metric_params=None, n_jobs=None, n_neighbors=1, p=2,\n",
              "                     weights='uniform')"
            ]
          },
          "metadata": {
            "tags": []
          },
          "execution_count": 30
        }
      ]
    },
    {
      "cell_type": "markdown",
      "metadata": {
        "id": "0uqiv3Zuqwgv"
      },
      "source": [
        "**Making predictions**\r\n",
        "we can now make the redictions using this  model on new data for which we might not know the correct labels.imagine found an iris in wild with the below given data.we can put this data into numy array "
      ]
    },
    {
      "cell_type": "code",
      "metadata": {
        "colab": {
          "base_uri": "https://localhost:8080/"
        },
        "id": "OWpGynyLq3zc",
        "outputId": "0119f278-3640-4e6b-e323-59dd502a557f"
      },
      "source": [
        "X_new=np.array([[5,2.9,1,.2]])\r\n",
        "print(\"X_new.shape:{}\".format(X_new.shape))"
      ],
      "execution_count": 31,
      "outputs": [
        {
          "output_type": "stream",
          "text": [
            "X_new.shape:(1, 4)\n"
          ],
          "name": "stdout"
        }
      ]
    },
    {
      "cell_type": "markdown",
      "metadata": {
        "id": "T220HhT6sxnX"
      },
      "source": [
        "to  make  a prediction,we call the predict method of  the knn object"
      ]
    },
    {
      "cell_type": "code",
      "metadata": {
        "colab": {
          "base_uri": "https://localhost:8080/"
        },
        "id": "SAKVXa8UtiUv",
        "outputId": "6dbfa90a-2d54-4e50-9835-9c8789017cd9"
      },
      "source": [
        "prediction=knn.predict(X_new)\r\n",
        "\r\n",
        "print(\"prediction :{}\".format(prediction))\r\n",
        "print(\"predicted target name:{}\".format(iris_dataset['target_names'][prediction]))"
      ],
      "execution_count": 32,
      "outputs": [
        {
          "output_type": "stream",
          "text": [
            "prediction :[0]\n",
            "predicted target name:['setosa']\n"
          ],
          "name": "stdout"
        }
      ]
    },
    {
      "cell_type": "markdown",
      "metadata": {
        "id": "lMPBg7UAuzS_"
      },
      "source": [
        "**Evaluatingthe Model**\r\n",
        "this is where the test set that we created earlier comes in.this data was not used to build  the  model ,but we do know what the correct species is for each iris in the test set.\r\n",
        "therefore we can make a rediction for each  iris in the test data and comare it against its label."
      ]
    },
    {
      "cell_type": "code",
      "metadata": {
        "colab": {
          "base_uri": "https://localhost:8080/"
        },
        "id": "zJift5OpvvaH",
        "outputId": "e9538682-d467-45ce-b758-1a0142e0b402"
      },
      "source": [
        "y_pred=knn.predict(X_test)\r\n",
        "print(\"test set predictions :\\n {}\".format(y_pred))"
      ],
      "execution_count": 33,
      "outputs": [
        {
          "output_type": "stream",
          "text": [
            "test set predictions :\n",
            " [2 1 0 2 0 2 0 1 1 1 2 1 1 1 1 0 1 1 0 0 2 1 0 0 2 0 0 1 1 0 2 1 0 2 2 1 0\n",
            " 2]\n"
          ],
          "name": "stdout"
        }
      ]
    },
    {
      "cell_type": "code",
      "metadata": {
        "colab": {
          "base_uri": "https://localhost:8080/"
        },
        "id": "h89SwrUPwhUK",
        "outputId": "1e5d3ce6-b007-4cd3-df79-b0d26311c648"
      },
      "source": [
        "print(\"test set score : {}\".format(np.mean(y_pred==Y_test)))"
      ],
      "execution_count": 36,
      "outputs": [
        {
          "output_type": "stream",
          "text": [
            "test set score : 0.9736842105263158\n"
          ],
          "name": "stdout"
        }
      ]
    }
  ]
}